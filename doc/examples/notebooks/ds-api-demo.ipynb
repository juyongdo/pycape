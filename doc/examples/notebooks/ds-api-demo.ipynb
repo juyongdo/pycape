{
 "cells": [
  {
   "source": [
    "# Cape Python API Demo\n",
    "\n",
    "This notebook illustrates how a data scientist can:\n",
    "- Connect to Cape\n",
    "- List and select a project\n",
    "- List and add data views to a project\n",
    "- Train an encrypted machine learning model on encrypted data using the data views associated to a specific project. "
   ],
   "cell_type": "markdown",
   "metadata": {}
  },
  {
   "cell_type": "code",
   "execution_count": 1,
   "id": "following-problem",
   "metadata": {},
   "outputs": [],
   "source": [
    "from cape import Cape\n",
    "from cape.api.dataview import DataView"
   ]
  },
  {
   "source": [
    "## 1. Login to Cape\n",
    "\n",
    "To use Cape through the Python API, you need to first login to your user account.\n",
    "The access token can be generated from the User Testings section in the Cape UI."
   ],
   "cell_type": "markdown",
   "metadata": {}
  },
  {
   "cell_type": "code",
   "execution_count": 2,
   "id": "played-encounter",
   "metadata": {},
   "outputs": [],
   "source": [
    "c = Cape()\n",
    "c.login(token='01EWE9F3JAKW5NE7TBM7NFQ289,AQ7M3j1y14ohdJdtuEY4q2ZafHrCBXnqRw')"
   ]
  },
  {
   "source": [
    "## 2. Select a Project\n",
    "\n",
    "You can then list the projects you have access to using the method `list_projects`:"
   ],
   "cell_type": "markdown",
   "metadata": {}
  },
  {
   "cell_type": "code",
   "execution_count": 3,
   "id": "downtown-zoning",
   "metadata": {},
   "outputs": [
    {
     "output_type": "execute_result",
     "data": {
      "text/plain": [
       "[<Project (id=01EWE9YVM13HAVR5RJAFRGMRVS, name=demo-ds-api, label=demo-ds-api)>]"
      ]
     },
     "metadata": {},
     "execution_count": 3
    }
   ],
   "source": [
    "c.list_projects()"
   ]
  },
  {
   "source": [
    "Currently the DS has to create a project from the Cape UI. But we could add the option for the DS to create a project from Python API. \n",
    "\n",
    "Once you have identified the relevant project, the DS can select the appropriate project with the method `get_project`."
   ],
   "cell_type": "markdown",
   "metadata": {}
  },
  {
   "cell_type": "code",
   "execution_count": 4,
   "metadata": {},
   "outputs": [],
   "source": [
    "demo_project = c.get_project(id=\"01EWE9YVM13HAVR5RJAFRGMRVS\")"
   ]
  },
  {
   "source": [
    "## 3. Add a Data View to a Project\n",
    "\n",
    "For each project, it's possible to add a data view. This data view never hold any raw data. It's just a reference to the dataset which will be later use to train a machine learning model on the encrypted dataset."
   ],
   "cell_type": "markdown",
   "metadata": {}
  },
  {
   "cell_type": "code",
   "execution_count": 5,
   "metadata": {},
   "outputs": [
    {
     "output_type": "execute_result",
     "data": {
      "text/plain": [
       "[<DataView (id=01EWED32H92AV9EGT07SZ3X1JZ)>]"
      ]
     },
     "metadata": {},
     "execution_count": 5
    }
   ],
   "source": [
    "demo_project.list_dataviews()"
   ]
  },
  {
   "source": [
    "To register a data view, you just needs to create a DataView object with the name and the path to the dataset (e.g. stored in `gs://` or `s3://` bucket) then call `add_dataview` on the project."
   ],
   "cell_type": "markdown",
   "metadata": {}
  },
  {
   "cell_type": "code",
   "execution_count": 6,
   "metadata": {},
   "outputs": [
    {
     "output_type": "execute_result",
     "data": {
      "text/plain": [
       "<DataView (id=01EWEQHZW6NGVJ9NMGK2M5FRYV)>"
      ]
     },
     "metadata": {},
     "execution_count": 6
    }
   ],
   "source": [
    "X_view = DataView(name=\"X-data\", uri=\"https://storage.googleapis.com/worker-data/x_data.csv\")\n",
    "demo_project.add_dataview(X_view)"
   ]
  },
  {
   "cell_type": "code",
   "execution_count": 10,
   "metadata": {},
   "outputs": [
    {
     "output_type": "execute_result",
     "data": {
      "text/plain": [
       "{'index': 'integer',\n",
       " 'transaction_date': 'datetime',\n",
       " 'state': 'string',\n",
       " 'transaction_amount': 'integer'}"
      ]
     },
     "metadata": {},
     "execution_count": 10
    }
   ],
   "source": [
    "X_view.schema"
   ]
  },
  {
   "cell_type": "code",
   "execution_count": 7,
   "metadata": {},
   "outputs": [
    {
     "output_type": "execute_result",
     "data": {
      "text/plain": [
       "[<DataView (id=01EWED32H92AV9EGT07SZ3X1JZ)>,\n",
       " <DataView (id=01EWEQHZW6NGVJ9NMGK2M5FRYV)>]"
      ]
     },
     "metadata": {},
     "execution_count": 7
    }
   ],
   "source": [
    "demo_project.list_dataviews()"
   ]
  },
  {
   "source": [
    "You can get a specific view associated to a project as fellow: "
   ],
   "cell_type": "markdown",
   "metadata": {}
  },
  {
   "cell_type": "code",
   "execution_count": null,
   "metadata": {},
   "outputs": [],
   "source": [
    "y_view =  demo_project.get_dataview(id=\"01EWED32H92AV9EGT07SZ3X1JZ\")"
   ]
  },
  {
   "source": [
    "## 4. Train an Encrypted Machine Learning Model\n",
    "\n",
    "To train a machine learning model, you have to create a job matching the model type required by the use case. For example if the use case requires a Linear Regression model where one organization own the X inputs and another organization the target Y, the DS can create a `VerticalLinearRegressionJob` job. "
   ],
   "cell_type": "markdown",
   "metadata": {}
  },
  {
   "cell_type": "code",
   "execution_count": null,
   "metadata": {},
   "outputs": [],
   "source": [
    "lr_job = VerticalLinearRegressionJob(\n",
    "    x_train_dataview=X_view['state_ca', 'transaction_amount'],\n",
    "    y_train_dataview=y_view['actual_sales_amount'],\n",
    "    include_metrics=['rmse', 'mape', 'r-squared'],\n",
    "    save_outputs_to=model_folder\n",
    ")\n",
    "\n",
    "demo_project.create_job(job=lr_job)"
   ]
  },
  {
   "source": [
    "Question: to select specific columns from a dataview we could use the following syntax: `dataview['actual_sales_amount']` (Pandas syntax). Or is the following syntax more intuitive  (x_train_data_cols & y_train_data_cols attributes):\n",
    "```\n",
    "lr_job = VerticalLinearRegressionJob(\n",
    "    x_train_dataview=dataview_1,\n",
    "    x_train_data_cols=['state_ca', 'estimated_sales_amount']\n",
    "    y_train_dataview=dataview_2,\n",
    "    y_train_data_cols=['actual_sales_amount'],\n",
    "    include_metrics=['rmse', 'mape', 'r-squared'],\n",
    "    save_outputs_to=model_folder,\n",
    ")\n",
    "```"
   ],
   "cell_type": "markdown",
   "metadata": {}
  },
  {
   "source": [
    "You are now ready to submit the job to Cape."
   ],
   "cell_type": "markdown",
   "metadata": {}
  },
  {
   "cell_type": "code",
   "execution_count": null,
   "metadata": {},
   "outputs": [],
   "source": [
    "lr_job.submit_job()"
   ]
  },
  {
   "source": [
    "You can check the status (ready, success, failed etc.) of the job in the Cape UI or by calling `get_status`"
   ],
   "cell_type": "markdown",
   "metadata": {}
  },
  {
   "cell_type": "code",
   "execution_count": null,
   "metadata": {},
   "outputs": [],
   "source": [
    "lr_job.get_status()"
   ]
  },
  {
   "source": [
    "Once training is done, you can access the model weights, metrics etc. by calling `get_results`."
   ],
   "cell_type": "markdown",
   "metadata": {}
  },
  {
   "cell_type": "code",
   "execution_count": null,
   "metadata": {},
   "outputs": [],
   "source": [
    "lr_job.get_results()"
   ]
  }
 ],
 "metadata": {
  "kernelspec": {
   "name": "python37664bitpseudoenvvenvd2a0f9afe96140c2940252b3e5e1b227",
   "display_name": "Python 3.7.6 64-bit ('pseudo_env': venv)",
   "language": "python"
  },
  "language_info": {
   "codemirror_mode": {
    "name": "ipython",
    "version": 3
   },
   "file_extension": ".py",
   "mimetype": "text/x-python",
   "name": "python",
   "nbconvert_exporter": "python",
   "pygments_lexer": "ipython3",
   "version": "3.7.5-final"
  }
 },
 "nbformat": 4,
 "nbformat_minor": 5
}