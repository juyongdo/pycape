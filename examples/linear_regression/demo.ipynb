{
 "metadata": {
  "language_info": {
   "codemirror_mode": {
    "name": "ipython",
    "version": 3
   },
   "file_extension": ".py",
   "mimetype": "text/x-python",
   "name": "python",
   "nbconvert_exporter": "python",
   "pygments_lexer": "ipython3",
   "version": "3.8.5-final"
  },
  "orig_nbformat": 2,
  "kernelspec": {
   "name": "python38564bitvenvvenv72d2f986eeea4042813b1d0aa443c70d",
   "display_name": "Python 3.8.5 64-bit ('venv': venv)",
   "language": "python"
  }
 },
 "nbformat": 4,
 "nbformat_minor": 2,
 "cells": [
  {
   "source": [
    "# CC Sales Forecasting"
   ],
   "cell_type": "markdown",
   "metadata": {}
  },
  {
   "source": [
    "**Objective:** Adjust Morgan Stanley's estimates of Safeway monthly sales (sourced from data vendors) using actual CC sales provided by Safeway.\n",
    "\n",
    "The purpose of this notebook is to illustrate how two companies might use Cape to collaboratively train a linear regression model."
   ],
   "cell_type": "markdown",
   "metadata": {}
  },
  {
   "cell_type": "code",
   "execution_count": 1,
   "metadata": {},
   "outputs": [],
   "source": [
    "import os\n",
    "from pathlib import Path\n",
    "\n",
    "import numpy as np\n",
    "import pandas as pd\n",
    "import seaborn as sns\n",
    "\n",
    "from cape.api.dataview import DataView\n",
    "from cape.api.job import VerticalLinearRegressionJob\n",
    "from cape.cape import Cape"
   ]
  },
  {
   "cell_type": "code",
   "execution_count": 2,
   "metadata": {},
   "outputs": [],
   "source": [
    "path = Path('data')"
   ]
  },
  {
   "source": [
    "# 1. Authenticate with the Cape system"
   ],
   "cell_type": "markdown",
   "metadata": {}
  },
  {
   "cell_type": "code",
   "execution_count": 3,
   "metadata": {},
   "outputs": [],
   "source": [
    "CAPE_TOKEN = os.environ.get(\"CAPE_TOKEN\") or \"01EXJB580QC1HJZYPRAY63SMVB,AaDUnYN4PuFtOfEjB1B2gtffK5neUxO2kw\"\n",
    "CAPE_PROJECT = os.environ.get(\"CAPE_PROJECT\") or \"01EXJ749YTYF0S8ZJSQ9N1G52V\"\n",
    "CAPE_COORDINATOR = os.environ.get(\"CAPE_COORDINATOR\") or \"https://demo.capeprivacy.com\""
   ]
  },
  {
   "source": [
    "First, we login to the Cape service via a Python client. This token was generated from the UX, and is unique to the user and organization they're registered with."
   ],
   "cell_type": "markdown",
   "metadata": {}
  },
  {
   "cell_type": "code",
   "execution_count": 4,
   "metadata": {},
   "outputs": [],
   "source": [
    "c = Cape(endpoint=CAPE_COORDINATOR)\n",
    "c.login(token=CAPE_TOKEN)"
   ]
  },
  {
   "source": [
    "We can look through the projects that I've been assigned as a contributor for. We'll use the `sales-projections` project, which is linked to the Morgan Stanley (`ms`) and Safeway (`sw`) orgs in Cape."
   ],
   "cell_type": "markdown",
   "metadata": {}
  },
  {
   "cell_type": "code",
   "execution_count": 5,
   "metadata": {},
   "outputs": [
    {
     "output_type": "stream",
     "name": "stdout",
     "text": [
      "<Project (id=01EX4XMDF4EM4RDEJ1YZV1E6KA, name=improve-stock-price, label=improve-stock-price)>\n<Project (id=01EXFQ4S7J7MVPWHSHDWHP5KDG, name=jason-demo, label=jason-demo)>\n<Project (id=01EXFQH15JFGCB209CJDWMCF44, name=stock-projections, label=stock-price-projections)>\n<Project (id=01EXJ749YTYF0S8ZJSQ9N1G52V, name=safeway-sales-projections, label=sales-projections)>\n"
     ]
    }
   ],
   "source": [
    "for p in c.list_projects():\n",
    "    print(p)\n",
    "\n",
    "project = c.get_project(\"01EXJ749YTYF0S8ZJSQ9N1G52V\")"
   ]
  },
  {
   "source": [
    "## 1. Data Preparation\n",
    "### a. Morgan Stanley Data\n",
    "\n",
    "Morgan Stanley's investment arm buys credit card panels from data vendors who work with with financial institutions directly to collect the data. Here are some variables we can expect to find in a credit card panel for one of the portfolio company.\n",
    "- transaction id\n",
    "- transaction date\n",
    "- transaction amount\n",
    "- merchant description\n",
    "- mcc\n",
    "- brand name\n",
    "- merchant location (address, city, state, state, zip, lat, lon)\n",
    "- symbol\n",
    "- card type\n",
    "- card location (zip, cbsa)\n",
    "- individual demographics (income, age)\n",
    "\n",
    "Because the objective is to adjust the dataset at aggregate level (amount by day and state) and not the individual transactions, we created a mock dataset just including the fields: transaction_date, state and ms_transaction_amount."
   ],
   "cell_type": "markdown",
   "metadata": {}
  },
  {
   "cell_type": "code",
   "execution_count": 6,
   "metadata": {},
   "outputs": [
    {
     "output_type": "execute_result",
     "data": {
      "text/plain": [
       "  transaction_date state  ms_transaction_amount\n",
       "0       2020-01-01    CA                      7\n",
       "1       2020-01-02    CA                      7\n",
       "2       2020-01-03    CA                     11\n",
       "3       2020-01-04    CA                      6\n",
       "4       2020-01-05    CA                      8"
      ],
      "text/html": "<div>\n<style scoped>\n    .dataframe tbody tr th:only-of-type {\n        vertical-align: middle;\n    }\n\n    .dataframe tbody tr th {\n        vertical-align: top;\n    }\n\n    .dataframe thead th {\n        text-align: right;\n    }\n</style>\n<table border=\"1\" class=\"dataframe\">\n  <thead>\n    <tr style=\"text-align: right;\">\n      <th></th>\n      <th>transaction_date</th>\n      <th>state</th>\n      <th>ms_transaction_amount</th>\n    </tr>\n  </thead>\n  <tbody>\n    <tr>\n      <th>0</th>\n      <td>2020-01-01</td>\n      <td>CA</td>\n      <td>7</td>\n    </tr>\n    <tr>\n      <th>1</th>\n      <td>2020-01-02</td>\n      <td>CA</td>\n      <td>7</td>\n    </tr>\n    <tr>\n      <th>2</th>\n      <td>2020-01-03</td>\n      <td>CA</td>\n      <td>11</td>\n    </tr>\n    <tr>\n      <th>3</th>\n      <td>2020-01-04</td>\n      <td>CA</td>\n      <td>6</td>\n    </tr>\n    <tr>\n      <th>4</th>\n      <td>2020-01-05</td>\n      <td>CA</td>\n      <td>8</td>\n    </tr>\n  </tbody>\n</table>\n</div>"
     },
     "metadata": {},
     "execution_count": 6
    }
   ],
   "source": [
    "ms_data = pd.read_csv(path / 'ms' / 'ms_data.csv')\n",
    "ms_data.head()"
   ]
  },
  {
   "source": [
    "Because we want to adjust the estimated sales by day/state, we aggregate `ms_transaction_amount` transactions by day/state."
   ],
   "cell_type": "markdown",
   "metadata": {}
  },
  {
   "cell_type": "code",
   "execution_count": 7,
   "metadata": {},
   "outputs": [
    {
     "output_type": "execute_result",
     "data": {
      "text/plain": [
       "                        ms_total_estimated_sales\n",
       "transaction_date state                          \n",
       "2020-01-01       CA                           87\n",
       "                 NY                           94\n",
       "2020-01-02       CA                           95\n",
       "                 NY                          100\n",
       "2020-01-03       CA                           99"
      ],
      "text/html": "<div>\n<style scoped>\n    .dataframe tbody tr th:only-of-type {\n        vertical-align: middle;\n    }\n\n    .dataframe tbody tr th {\n        vertical-align: top;\n    }\n\n    .dataframe thead th {\n        text-align: right;\n    }\n</style>\n<table border=\"1\" class=\"dataframe\">\n  <thead>\n    <tr style=\"text-align: right;\">\n      <th></th>\n      <th></th>\n      <th>ms_total_estimated_sales</th>\n    </tr>\n    <tr>\n      <th>transaction_date</th>\n      <th>state</th>\n      <th></th>\n    </tr>\n  </thead>\n  <tbody>\n    <tr>\n      <th rowspan=\"2\" valign=\"top\">2020-01-01</th>\n      <th>CA</th>\n      <td>87</td>\n    </tr>\n    <tr>\n      <th>NY</th>\n      <td>94</td>\n    </tr>\n    <tr>\n      <th rowspan=\"2\" valign=\"top\">2020-01-02</th>\n      <th>CA</th>\n      <td>95</td>\n    </tr>\n    <tr>\n      <th>NY</th>\n      <td>100</td>\n    </tr>\n    <tr>\n      <th>2020-01-03</th>\n      <th>CA</th>\n      <td>99</td>\n    </tr>\n  </tbody>\n</table>\n</div>"
     },
     "metadata": {},
     "execution_count": 7
    }
   ],
   "source": [
    "ms_agg = ms_data.groupby([\"transaction_date\", \"state\"]).agg({\"ms_transaction_amount\": \"sum\"}).rename(columns={\"ms_transaction_amount\": \"ms_total_estimated_sales\"})\n",
    "ms_agg.head()"
   ]
  },
  {
   "source": [
    "Finally, the data owner from Morgan Stanley can create a dataview pointing to the location where this dataset will be stored. In this case, it's in an S3 bucket."
   ],
   "cell_type": "markdown",
   "metadata": {}
  },
  {
   "cell_type": "code",
   "execution_count": 8,
   "metadata": {},
   "outputs": [
    {
     "output_type": "stream",
     "name": "stdout",
     "text": [
      "<Organization (id=01EXJ5WD5WWQKWBKTJXPF18HNK, name=morgan-stanley)>\n<Organization (id=01EXJ758K70F0D1QFMQZWW3BNR, name=safeway-tech)>\n"
     ]
    }
   ],
   "source": [
    "for org in project.organizations:\n",
    "    print(org)"
   ]
  },
  {
   "cell_type": "code",
   "execution_count": 9,
   "metadata": {},
   "outputs": [
    {
     "output_type": "execute_result",
     "data": {
      "text/plain": [
       "<DataView (id=01EXJBFX5VZ48PMNT38VXP06FT, name=morgan-stanley-agg-data, location=None)>"
      ]
     },
     "metadata": {},
     "execution_count": 9
    }
   ],
   "source": [
    "ms_dataview = DataView(\n",
    "    name=\"morgan-stanley-agg-data\",\n",
    "    owner_id=project.organizations[0].id,\n",
    "    uri='x_data',\n",
    "    schema=ms_agg.dtypes\n",
    ")\n",
    "project.add_dataview(ms_dataview)\n"
   ]
  },
  {
   "source": [
    "## b. Safeway data"
   ],
   "cell_type": "markdown",
   "metadata": {}
  },
  {
   "source": [
    "Safeway has access to their actual sales transaction. We can expect the following fields in the dataset:\n",
    "\n",
    "- transaction id\n",
    "- transaction date\n",
    "- location (Safeway only need detail at state level)\n",
    "- transaction type (credit/debit, cash, etc.)\n",
    "- transaction amount\n",
    "\n",
    "For the same reason before, we created a mock dataset just including the fields: transaction_date, state and sw_transaction_amount."
   ],
   "cell_type": "markdown",
   "metadata": {}
  },
  {
   "cell_type": "code",
   "execution_count": 10,
   "metadata": {},
   "outputs": [
    {
     "output_type": "execute_result",
     "data": {
      "text/plain": [
       "  transaction_date state  sw_transaction_amount\n",
       "0       2020-01-01    CA                     15\n",
       "1       2020-01-02    CA                     16\n",
       "2       2020-01-03    CA                     23\n",
       "3       2020-01-04    CA                     14\n",
       "4       2020-01-05    CA                     18"
      ],
      "text/html": "<div>\n<style scoped>\n    .dataframe tbody tr th:only-of-type {\n        vertical-align: middle;\n    }\n\n    .dataframe tbody tr th {\n        vertical-align: top;\n    }\n\n    .dataframe thead th {\n        text-align: right;\n    }\n</style>\n<table border=\"1\" class=\"dataframe\">\n  <thead>\n    <tr style=\"text-align: right;\">\n      <th></th>\n      <th>transaction_date</th>\n      <th>state</th>\n      <th>sw_transaction_amount</th>\n    </tr>\n  </thead>\n  <tbody>\n    <tr>\n      <th>0</th>\n      <td>2020-01-01</td>\n      <td>CA</td>\n      <td>15</td>\n    </tr>\n    <tr>\n      <th>1</th>\n      <td>2020-01-02</td>\n      <td>CA</td>\n      <td>16</td>\n    </tr>\n    <tr>\n      <th>2</th>\n      <td>2020-01-03</td>\n      <td>CA</td>\n      <td>23</td>\n    </tr>\n    <tr>\n      <th>3</th>\n      <td>2020-01-04</td>\n      <td>CA</td>\n      <td>14</td>\n    </tr>\n    <tr>\n      <th>4</th>\n      <td>2020-01-05</td>\n      <td>CA</td>\n      <td>18</td>\n    </tr>\n  </tbody>\n</table>\n</div>"
     },
     "metadata": {},
     "execution_count": 10
    }
   ],
   "source": [
    "sw_data = pd.read_csv(path / 'sw' / 'sw_data.csv')\n",
    "sw_data.head()"
   ]
  },
  {
   "cell_type": "code",
   "execution_count": 11,
   "metadata": {},
   "outputs": [
    {
     "output_type": "execute_result",
     "data": {
      "text/plain": [
       "                        sw_total_estimated_sales\n",
       "transaction_date state                          \n",
       "2020-01-01       CA                          188\n",
       "                 NY                          204\n",
       "2020-01-02       CA                          204\n",
       "                 NY                          216\n",
       "2020-01-03       CA                          213"
      ],
      "text/html": "<div>\n<style scoped>\n    .dataframe tbody tr th:only-of-type {\n        vertical-align: middle;\n    }\n\n    .dataframe tbody tr th {\n        vertical-align: top;\n    }\n\n    .dataframe thead th {\n        text-align: right;\n    }\n</style>\n<table border=\"1\" class=\"dataframe\">\n  <thead>\n    <tr style=\"text-align: right;\">\n      <th></th>\n      <th></th>\n      <th>sw_total_estimated_sales</th>\n    </tr>\n    <tr>\n      <th>transaction_date</th>\n      <th>state</th>\n      <th></th>\n    </tr>\n  </thead>\n  <tbody>\n    <tr>\n      <th rowspan=\"2\" valign=\"top\">2020-01-01</th>\n      <th>CA</th>\n      <td>188</td>\n    </tr>\n    <tr>\n      <th>NY</th>\n      <td>204</td>\n    </tr>\n    <tr>\n      <th rowspan=\"2\" valign=\"top\">2020-01-02</th>\n      <th>CA</th>\n      <td>204</td>\n    </tr>\n    <tr>\n      <th>NY</th>\n      <td>216</td>\n    </tr>\n    <tr>\n      <th>2020-01-03</th>\n      <th>CA</th>\n      <td>213</td>\n    </tr>\n  </tbody>\n</table>\n</div>"
     },
     "metadata": {},
     "execution_count": 11
    }
   ],
   "source": [
    "sw_agg = sw_data.groupby([\"transaction_date\", \"state\"]).agg({\"sw_transaction_amount\": \"sum\"}).rename(columns={\"sw_transaction_amount\": \"sw_total_estimated_sales\"})\n",
    "sw_agg.head()"
   ]
  },
  {
   "cell_type": "code",
   "execution_count": 12,
   "metadata": {},
   "outputs": [
    {
     "output_type": "stream",
     "name": "stdout",
     "text": [
      "<Organization (id=01EXJ5WD5WWQKWBKTJXPF18HNK, name=morgan-stanley)>\n<Organization (id=01EXJ758K70F0D1QFMQZWW3BNR, name=safeway-tech)>\n"
     ]
    }
   ],
   "source": [
    "for org in project.organizations:\n",
    "    print(org)"
   ]
  },
  {
   "cell_type": "code",
   "execution_count": 14,
   "metadata": {},
   "outputs": [
    {
     "output_type": "execute_result",
     "data": {
      "text/plain": [
       "<DataView (id=01EXJBHFHH9BC0HEK6CQ2WTV9F, name=safeway-agg-data, location=None)>"
      ]
     },
     "metadata": {},
     "execution_count": 14
    }
   ],
   "source": [
    "sw_dataview = DataView(\n",
    "    name=\"safeway-agg-data\",\n",
    "    owner_id=project.organizations[1].id,\n",
    "    uri='y_data',\n",
    "    schema=sw_agg.dtypes\n",
    ")\n",
    "project.add_dataview(sw_dataview)\n"
   ]
  },
  {
   "source": [
    "# --- testing SK LEARN results ---\n",
    "TODO: Remove"
   ],
   "cell_type": "markdown",
   "metadata": {}
  },
  {
   "cell_type": "code",
   "execution_count": 15,
   "metadata": {},
   "outputs": [],
   "source": [
    "X_ms = pd.read_csv(path/'ms/ms_aggregate_data.csv', parse_dates=['transaction_date'])['ms_total_estimated_sales'].to_numpy().reshape(-1, 1)\n",
    "y_sw = pd.read_csv(path/'sw/sw_aggregate_data.csv', parse_dates=['transaction_date'])['sw_total_estimated_sales'].to_numpy().reshape(-1, 1)"
   ]
  },
  {
   "cell_type": "code",
   "execution_count": 16,
   "metadata": {},
   "outputs": [],
   "source": [
    "\n",
    "from sklearn.linear_model import  LinearRegression\n",
    "from sklearn.metrics import r2_score\n",
    "from sklearn.metrics import mean_squared_error\n",
    "\n",
    "def mse(y_true, y_pred):\n",
    "    return mean_squared_error(y_true, y_pred)\n",
    "\n",
    "def display_coefficients(model, coef_names):\n",
    "    print(\"Model Coefficients\\n\")\n",
    "    for i, coef in enumerate(coef_names):\n",
    "        if coef == 'intercept':\n",
    "            print(f\"{coef}: {round(model.intercept_[0], 2)}\")\n",
    "        else:\n",
    "            print(f\"{coef}: {round(model.coef_.tolist()[i][0], 2)}\")"
   ]
  },
  {
   "cell_type": "code",
   "execution_count": 17,
   "metadata": {},
   "outputs": [
    {
     "output_type": "stream",
     "name": "stdout",
     "text": [
      "Model Coefficients\n\nms_total_estimated_sales: 2.03\nintercept: 12.13\n"
     ]
    }
   ],
   "source": [
    "# Train linear regression\n",
    "model = LinearRegression()\n",
    "model.fit(X_ms, y_sw)\n",
    "\n",
    "display_coefficients(model, ['ms_total_estimated_sales', 'intercept'])"
   ]
  },
  {
   "cell_type": "code",
   "execution_count": 18,
   "metadata": {},
   "outputs": [
    {
     "output_type": "stream",
     "name": "stdout",
     "text": [
      "Train - R-Squared: 0.9932724594707781\nTrain - RMSE: 2.140561949858766\n"
     ]
    }
   ],
   "source": [
    "pred = model.predict(X_ms)\n",
    "mse_val = mse(y_sw, pred)\n",
    "r2 = r2_score(y_sw, pred)\n",
    "\n",
    "print(f\"Train - R-Squared: {r2}\")\n",
    "print(f\"Train - RMSE: {mse_val}\")"
   ]
  },
  {
   "source": [
    "# Morgan Stanley -- Linear Regression Job"
   ],
   "cell_type": "markdown",
   "metadata": {}
  },
  {
   "source": [
    "Now the data scientist can inspect the project and its available dataviews on their end."
   ],
   "cell_type": "markdown",
   "metadata": {}
  },
  {
   "cell_type": "code",
   "execution_count": 27,
   "metadata": {},
   "outputs": [
    {
     "output_type": "stream",
     "name": "stdout",
     "text": [
      "<DataView (id=01EXJBFX5VZ48PMNT38VXP06FT, name=morgan-stanley-agg-data, location=None)>\n<DataView (id=01EXJBHFHH9BC0HEK6CQ2WTV9F, name=safeway-agg-data, location=None)>\n"
     ]
    }
   ],
   "source": [
    "dataviews = project.list_dataviews()\n",
    "for dv in dataviews:\n",
    "    print(dv)"
   ]
  },
  {
   "source": [
    "Finally, we can use these dataviews to create a linear regression training job. Since the input variables and output variables are split across different dataviews, we specify this as a `VerticalLinearRegressionJob`. These dataviews are references to datasets that live elsewhere, so we just need to specify which columns in the dataview we want to use for the input and output variables of the model."
   ],
   "cell_type": "markdown",
   "metadata": {}
  },
  {
   "cell_type": "code",
   "execution_count": 28,
   "metadata": {},
   "outputs": [],
   "source": [
    "job = VerticalLinearRegressionJob(\n",
    "        x_train_dataview=dataviews[0],\n",
    "        x_train_data_cols=['ms_total_estimated_sales'],\n",
    "        y_train_dataview=dataviews[1],\n",
    "        y_train_data_cols=['sw_total_estimated_sales'],\n",
    "    )"
   ]
  },
  {
   "source": [
    "We then register and create the job with the Cape service. It should now be visible in the Cape UI."
   ],
   "cell_type": "markdown",
   "metadata": {}
  },
  {
   "cell_type": "code",
   "execution_count": 29,
   "metadata": {},
   "outputs": [],
   "source": [
    "\n",
    "job = project.create_job(job=job)"
   ]
  },
  {
   "source": [
    "Lastly, we can submit the job for execution. Under the hood, this sets up a worker Session on the Cape Coordinator, which will be used to orchestrate and compute the encrypted linear regression."
   ],
   "cell_type": "markdown",
   "metadata": {}
  },
  {
   "cell_type": "code",
   "execution_count": 37,
   "metadata": {},
   "outputs": [
    {
     "output_type": "execute_result",
     "data": {
      "text/plain": [
       "<VerticalLinearRegressionJob (id=01EXJBSMXPHEMPNZ00JD0Z5EJV, job_type=LINEAR_REGRESSION)>"
      ]
     },
     "metadata": {},
     "execution_count": 37
    }
   ],
   "source": [
    "job.submit_job()"
   ]
  },
  {
   "source": [
    "We can check the status of this job here, and when it's complete we can fetch the results.\n"
   ],
   "cell_type": "markdown",
   "metadata": {}
  },
  {
   "cell_type": "code",
   "execution_count": null,
   "metadata": {},
   "outputs": [],
   "source": [
    "# TODO"
   ]
  }
 ]
}